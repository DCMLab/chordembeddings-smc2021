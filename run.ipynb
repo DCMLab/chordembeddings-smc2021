{
 "cells": [
  {
   "cell_type": "code",
   "execution_count": 1,
   "metadata": {},
   "outputs": [],
   "source": [
    "from run import run_minor, run_major #import the functions\n",
    "from load_data import all_composers\n",
    "import pandas as pd\n",
    "import numpy as np\n",
    "import matplotlib.pyplot as plt\n",
    "import seaborn as sns\n",
    "df_minor = pd.DataFrame() #initialize the dataframe : to run just one time !!!\n",
    "df_major = pd.DataFrame() #initialize the dataframe : to run just one time !!!"
   ]
  },
  {
   "cell_type": "code",
   "execution_count": null,
   "metadata": {},
   "outputs": [],
   "source": [
    "for composer in all_composers:\n",
    "    df_minor = run_minor(test_composer = [composer], num_train = 10, df_all = df_minor,\n",
    "                                      min_count=50, size=5, window=2, sg=1, num_epochs=2)\n",
    "    df_major = run_major(test_composer = [composer], num_train = 10, df_all = df_major,\n",
    "                                      min_count=50, size=5, window=2, sg=1, num_epochs=2)\n",
    "    \n",
    "df_minor.to_csv('results_minor.csv')\n",
    "df_major.to_csv('results_major.csv')"
   ]
  },
  {
   "cell_type": "code",
   "execution_count": null,
   "metadata": {},
   "outputs": [],
   "source": []
  }
 ],
 "metadata": {
  "kernelspec": {
   "display_name": "Python 3",
   "language": "python",
   "name": "python3"
  },
  "language_info": {
   "codemirror_mode": {
    "name": "ipython",
    "version": 3
   },
   "file_extension": ".py",
   "mimetype": "text/x-python",
   "name": "python",
   "nbconvert_exporter": "python",
   "pygments_lexer": "ipython3",
   "version": "3.8.3"
  }
 },
 "nbformat": 4,
 "nbformat_minor": 4
}
